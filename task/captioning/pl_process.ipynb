{
 "cells": [
  {
   "cell_type": "code",
   "execution_count": 1,
   "metadata": {},
   "outputs": [],
   "source": [
    "# The dataset can be downloaded from:\n",
    "# http://zil.ipipan.waw.pl/Scwad/AIDe\n",
    "\n",
    "import os\n",
    "import pandas as pd\n",
    "import warnings\n",
    "warnings.simplefilter(action='ignore', category=FutureWarning) # Ignore FutureWarning for pandas"
   ]
  },
  {
   "cell_type": "code",
   "execution_count": 2,
   "metadata": {},
   "outputs": [],
   "source": [
    "# Load file\n",
    "\n",
    "raw = pd.read_csv('AIDe_ANNOTATED_DESCRIPTIONS/captions.csv', sep='\\t')\n",
    "eng = pd.read_csv('/HDD/dataset/flickr8k/captions.txt', delimiter=',') # Load the captions\n",
    "img_path = '/HDD/dataset/flickr8k/Images/' # Path to the images"
   ]
  },
  {
   "cell_type": "code",
   "execution_count": 3,
   "metadata": {},
   "outputs": [],
   "source": [
    "caption_df = pd.DataFrame(columns=['image_name', 'caption_number', 'caption_text', 'caption_text_pl', 'split'])\n",
    "\n",
    "for i in range(len(raw)):\n",
    "    image_name = raw['Picture_orig_name'][i]\n",
    "    cap_pl_1 = raw['Caption_1'][i]\n",
    "    cap_pl_2 = raw['Caption_2'][i]\n",
    "\n",
    "    # find the corresponding english caption for the image\n",
    "    cap_en_1 = eng[eng['image'] == image_name]['caption'].iloc[0]\n",
    "    cap_en_2 = eng[eng['image'] == image_name]['caption'].iloc[1]\n",
    "\n",
    "    # add the captions to the dataframe\n",
    "    caption_df = caption_df.append({'image_name': image_name, 'caption_number': 1, 'caption_text': cap_en_1, 'caption_text_pl': cap_pl_1, 'split': 0}, ignore_index=True)\n",
    "    caption_df = caption_df.append({'image_name': image_name, 'caption_number': 2, 'caption_text': cap_en_2, 'caption_text_pl': cap_pl_2, 'split': 0}, ignore_index=True)\n"
   ]
  },
  {
   "cell_type": "code",
   "execution_count": 4,
   "metadata": {},
   "outputs": [
    {
     "name": "stderr",
     "output_type": "stream",
     "text": [
      "/tmp/ipykernel_12933/2317492334.py:10: SettingWithCopyWarning: \n",
      "A value is trying to be set on a copy of a slice from a DataFrame.\n",
      "Try using .loc[row_indexer,col_indexer] = value instead\n",
      "\n",
      "See the caveats in the documentation: https://pandas.pydata.org/pandas-docs/stable/user_guide/indexing.html#returning-a-view-versus-a-copy\n",
      "  train_df['split'] = 0\n",
      "/tmp/ipykernel_12933/2317492334.py:11: SettingWithCopyWarning: \n",
      "A value is trying to be set on a copy of a slice from a DataFrame.\n",
      "Try using .loc[row_indexer,col_indexer] = value instead\n",
      "\n",
      "See the caveats in the documentation: https://pandas.pydata.org/pandas-docs/stable/user_guide/indexing.html#returning-a-view-versus-a-copy\n",
      "  val_df['split'] = 1\n",
      "/tmp/ipykernel_12933/2317492334.py:12: SettingWithCopyWarning: \n",
      "A value is trying to be set on a copy of a slice from a DataFrame.\n",
      "Try using .loc[row_indexer,col_indexer] = value instead\n",
      "\n",
      "See the caveats in the documentation: https://pandas.pydata.org/pandas-docs/stable/user_guide/indexing.html#returning-a-view-versus-a-copy\n",
      "  test_df['split'] = 2\n"
     ]
    }
   ],
   "source": [
    "# Sort the dataframe by image name and caption number\n",
    "caption_df = caption_df.sort_values(by=['image_name', 'caption_number'])\n",
    "\n",
    "# Use 100 images (200 captions) for validation and 100 images (200 captions) for testing\n",
    "train_df = caption_df.iloc[0:1600]\n",
    "val_df = caption_df.iloc[1600:1800]\n",
    "test_df = caption_df.iloc[1800:2000]\n",
    "\n",
    "# Split: 0 - train, 1 - val, 2 - test\n",
    "train_df['split'] = 0\n",
    "val_df['split'] = 1\n",
    "test_df['split'] = 2\n",
    "\n",
    "# Save the dataframes as json files\n",
    "train_df.to_json('AIDe_ANNOTATED_DESCRIPTIONS/aide_train.json', force_ascii=False, orient='records', indent=4)\n",
    "val_df.to_json('AIDe_ANNOTATED_DESCRIPTIONS/aide_val.json', force_ascii=False, orient='records', indent=4)\n",
    "test_df.to_json('AIDe_ANNOTATED_DESCRIPTIONS/aide_test.json', force_ascii=False, orient='records', indent=4)"
   ]
  }
 ],
 "metadata": {
  "kernelspec": {
   "display_name": "proj-captioning",
   "language": "python",
   "name": "python3"
  },
  "language_info": {
   "codemirror_mode": {
    "name": "ipython",
    "version": 3
   },
   "file_extension": ".py",
   "mimetype": "text/x-python",
   "name": "python",
   "nbconvert_exporter": "python",
   "pygments_lexer": "ipython3",
   "version": "3.8.16"
  },
  "orig_nbformat": 4
 },
 "nbformat": 4,
 "nbformat_minor": 2
}
