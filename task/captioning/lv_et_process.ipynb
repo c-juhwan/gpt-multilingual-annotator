{
 "cells": [
  {
   "cell_type": "code",
   "execution_count": 1,
   "metadata": {},
   "outputs": [],
   "source": [
    "# The dataset can be downloaded from:\n",
    "# https://drive.google.com/file/d/1YexKrE6o0UiJhFWpE8M5LKoe6-k3AiM4/view\n",
    "\n",
    "import os\n",
    "import json\n",
    "import pandas as pd\n",
    "import warnings\n",
    "warnings.simplefilter(action='ignore', category=FutureWarning) # Ignore FutureWarning for pandas"
   ]
  },
  {
   "cell_type": "code",
   "execution_count": 2,
   "metadata": {},
   "outputs": [],
   "source": [
    "# Load each file\n",
    "\n",
    "with open('UIT-ViIC/uitviic_captions_train2017.json') as f:\n",
    "    train = json.load(f)\n",
    "    # Save them with indent\n",
    "    with open('UIT-ViIC/uitviic_captions_train2017.json', 'w') as f:\n",
    "        json.dump(train, f, indent=4, sort_keys=True, ensure_ascii=False)\n",
    "\n",
    "with open('UIT-ViIC/uitviic_captions_val2017.json') as f:\n",
    "    val = json.load(f)\n",
    "    # Save them with indent\n",
    "    with open('UIT-ViIC/uitviic_captions_val2017.json', 'w') as f:\n",
    "        json.dump(val, f, indent=4, sort_keys=True, ensure_ascii=False)\n",
    "\n",
    "with open('UIT-ViIC/uitviic_captions_test2017.json') as f:\n",
    "    test = json.load(f)\n",
    "    # Save them with indent\n",
    "    with open('UIT-ViIC/uitviic_captions_test2017.json', 'w') as f:\n",
    "        json.dump(test, f, indent=4, sort_keys=True, ensure_ascii=False)"
   ]
  },
  {
   "cell_type": "code",
   "execution_count": 3,
   "metadata": {},
   "outputs": [],
   "source": [
    "# Load english file\n",
    "\n",
    "with open('UIT-ViIC/captions_train2017.json') as f: # This file can be downloaded from official COCO website\n",
    "    coco = json.load(f)\n",
    "    # Save them with indent\n",
    "    with open('UIT-ViIC/captions_train2017.json', 'w') as f:\n",
    "        json.dump(coco, f, indent=4, sort_keys=True, ensure_ascii=False)"
   ]
  },
  {
   "cell_type": "code",
   "execution_count": 4,
   "metadata": {},
   "outputs": [
    {
     "name": "stdout",
     "output_type": "stream",
     "text": [
      "2695\n",
      "924\n",
      "231\n"
     ]
    }
   ],
   "source": [
    "# Find the id of each image\n",
    "\n",
    "train_id = []\n",
    "train_len = len(train['annotations'])\n",
    "for i in range(train_len):\n",
    "    if train['annotations'][i]['image_id'] not in train_id:\n",
    "        train_id.append(train['annotations'][i]['image_id'])\n",
    "print(len(train_id))\n",
    "\n",
    "valid_id = []\n",
    "valid_len = len(val['annotations'])\n",
    "for i in range(valid_len):\n",
    "    if val['annotations'][i]['image_id'] not in valid_id:\n",
    "        valid_id.append(val['annotations'][i]['image_id'])\n",
    "print(len(valid_id))\n",
    "\n",
    "test_id = []\n",
    "test_len = len(test['annotations'])\n",
    "for i in range(test_len):\n",
    "    if test['annotations'][i]['image_id'] not in test_id:\n",
    "        test_id.append(test['annotations'][i]['image_id'])\n",
    "print(len(test_id))"
   ]
  },
  {
   "cell_type": "code",
   "execution_count": 5,
   "metadata": {},
   "outputs": [],
   "source": [
    "train_coco_data = {\n",
    "    \"annotations\": [],\n",
    "}\n",
    "valid_coco_data = {\n",
    "    \"annotations\": [],\n",
    "}\n",
    "test_coco_data = {\n",
    "    \"annotations\": [],\n",
    "}\n",
    "\n",
    "# Find train_id in coco\n",
    "for i in range(len(coco['annotations'])):\n",
    "    if coco['annotations'][i]['image_id'] in train_id:\n",
    "        train_coco_data['annotations'].append(coco['annotations'][i])\n",
    "\n",
    "# Find valid_id in coco\n",
    "for i in range(len(coco['annotations'])):\n",
    "    if coco['annotations'][i]['image_id'] in valid_id:\n",
    "        valid_coco_data['annotations'].append(coco['annotations'][i])\n",
    "\n",
    "# Find test_id in coco\n",
    "for i in range(len(coco['annotations'])):\n",
    "    if coco['annotations'][i]['image_id'] in test_id:\n",
    "        test_coco_data['annotations'].append(coco['annotations'][i])\n"
   ]
  },
  {
   "cell_type": "code",
   "execution_count": 6,
   "metadata": {},
   "outputs": [
    {
     "name": "stdout",
     "output_type": "stream",
     "text": [
      "{'caption': 'there is a young boy practicing at a batting cage', 'id': 589843, 'image_id': 52957}\n"
     ]
    }
   ],
   "source": [
    "print(test_coco_data['annotations'][0])\n",
    "\n",
    "# Sort by image_id\n",
    "train_coco_data['annotations'] = sorted(train_coco_data['annotations'], key=lambda k: k['image_id'])\n",
    "valid_coco_data['annotations'] = sorted(valid_coco_data['annotations'], key=lambda k: k['image_id'])\n",
    "test_coco_data['annotations'] = sorted(test_coco_data['annotations'], key=lambda k: k['image_id'])"
   ]
  },
  {
   "cell_type": "code",
   "execution_count": 7,
   "metadata": {},
   "outputs": [],
   "source": [
    "if not os.path.exists('new_lv_data'):\n",
    "    os.makedirs('new_lv_data')\n",
    "if not os.path.exists('new_et_data'):\n",
    "    os.makedirs('new_et_data')\n",
    "if not os.path.exists('new_fi_data'):\n",
    "    os.makedirs('new_fi_data')\n",
    "\n",
    "with open('new_lv_data/latvian_train2017_EN.json', 'w') as f:\n",
    "    json.dump(train_coco_data, f, indent=4, sort_keys=True, ensure_ascii=False)\n",
    "with open('new_lv_data/latvian_val2017_EN.json', 'w') as f:\n",
    "    json.dump(valid_coco_data, f, indent=4, sort_keys=True, ensure_ascii=False)\n",
    "with open('new_lv_data/latvian_test2017_EN.json', 'w') as f:\n",
    "    json.dump(test_coco_data, f, indent=4, sort_keys=True, ensure_ascii=False)\n",
    "\n",
    "with open('new_et_data/estonian_train2017_EN.json', 'w') as f:\n",
    "    json.dump(train_coco_data, f, indent=4, sort_keys=True, ensure_ascii=False)\n",
    "with open('new_et_data/estonian_val2017_EN.json', 'w') as f:\n",
    "    json.dump(valid_coco_data, f, indent=4, sort_keys=True, ensure_ascii=False)\n",
    "with open('new_et_data/estonian_test2017_EN.json', 'w') as f:\n",
    "    json.dump(test_coco_data, f, indent=4, sort_keys=True, ensure_ascii=False)\n",
    "\n",
    "with open('new_fi_data/finnish_train2017_EN.json', 'w') as f:\n",
    "    json.dump(train_coco_data, f, indent=4, sort_keys=True, ensure_ascii=False)\n",
    "with open('new_fi_data/finnish_val2017_EN.json', 'w') as f:\n",
    "    json.dump(valid_coco_data, f, indent=4, sort_keys=True, ensure_ascii=False)\n",
    "with open('new_fi_data/finnish_test2017_EN.json', 'w') as f:\n",
    "    json.dump(test_coco_data, f, indent=4, sort_keys=True, ensure_ascii=False)"
   ]
  }
 ],
 "metadata": {
  "kernelspec": {
   "display_name": "proj-captioning",
   "language": "python",
   "name": "python3"
  },
  "language_info": {
   "codemirror_mode": {
    "name": "ipython",
    "version": 3
   },
   "file_extension": ".py",
   "mimetype": "text/x-python",
   "name": "python",
   "nbconvert_exporter": "python",
   "pygments_lexer": "ipython3",
   "version": "3.8.16"
  },
  "orig_nbformat": 4
 },
 "nbformat": 4,
 "nbformat_minor": 2
}
